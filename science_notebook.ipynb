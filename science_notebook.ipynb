{
 "cells": [
  {
   "cell_type": "markdown",
   "metadata": {},
   "source": [
    "Newton's Second Law of Motion\n",
    "\n",
    "$y(t) = v_0 t - \\frac{1}{2} g t^2$"
   ]
  },
  {
   "cell_type": "code",
   "execution_count": 13,
   "metadata": {
    "attributes": {
     "classes": [],
     "id": "",
     "n": "13"
    }
   },
   "outputs": [
    {
     "data": {
      "text/plain": [
       "1.2342"
      ]
     },
     "execution_count": 13,
     "metadata": {},
     "output_type": "execute_result"
    }
   ],
   "source": [
    "5 * 0.6 - 0.5 * 9.81 * 0.6 ** 2"
   ]
  },
  {
   "cell_type": "markdown",
   "metadata": {},
   "source": [
    "$y(t)=v_0t-\\frac{1}{2}gt^2$\n",
    "\n",
    "\n",
    " * v0 as initial velocity of objects\n",
    " * g\n",
    "acceleration of gravity\n",
    " * t as time\n",
    "\n",
    "\n",
    "With y=0 as axis of object start when t=0\n",
    "at initial time.\n",
    "\n",
    "$v_0t-\\frac{1}{2}gt^2 = t(v_0-\\frac{1}{2}gt)=0 \\Rightarrow\n",
    "t=0$ or $t=\\frac{v_0}{g}$\n",
    "\n",
    " * time to move up and return to y=0, return seconds\n",
    "is $\\frac{2 v_0}{g}$\n",
    " and restricted to $t \\in \\left[ 0, \\  \\frac{2\n",
    "v_{0}}{g}\\right]$"
   ]
  },
  {
   "cell_type": "code",
   "execution_count": 15,
   "metadata": {
    "attributes": {
     "classes": [],
     "id": "",
     "n": "15"
    }
   },
   "outputs": [
    {
     "name": "stdout",
     "output_type": "stream",
     "text": [
      "1.2342\n"
     ]
    }
   ],
   "source": [
    "# variables for newton's second law of motion\n",
    "v0 = 5\n",
    "g = 9.81\n",
    "t = 0.6\n",
    "y = v0*t - 0.5*g*t**2\n",
    "print(y)"
   ]
  },
  {
   "cell_type": "code",
   "execution_count": 18,
   "metadata": {
    "attributes": {
     "classes": [],
     "id": "",
     "n": "18"
    }
   },
   "outputs": [
    {
     "name": "stdout",
     "output_type": "stream",
     "text": [
      "1.2342\n"
     ]
    }
   ],
   "source": [
    "# or using good pythonic naming conventions\n",
    "initial_velocity = 5\n",
    "acceleration_of_gravity = 9.81\n",
    "TIME = 0.6\n",
    "VerticalPositionOfBall = initial_velocity*TIME - \\\n",
    "                         0.5*acceleration_of_gravity*TIME**2\n",
    "print(VerticalPositionOfBall)"
   ]
  },
  {
   "cell_type": "markdown",
   "metadata": {},
   "source": [
    "Integral calculation\n",
    "$$\n",
    "\\int_{-\\infty}^1 e^{-x^2}dx{\\thinspace .}\n",
    "$$"
   ]
  },
  {
   "cell_type": "code",
   "execution_count": 4,
   "metadata": {
    "attributes": {
     "classes": [],
     "id": "",
     "n": "4"
    }
   },
   "outputs": [
    {
     "name": "stdout",
     "output_type": "stream",
     "text": [
      "value of integral: 1.6330240187288536\n"
     ]
    }
   ],
   "source": [
    "from numpy import *\n",
    "\n",
    "def integrate(f, a, b, n=100):\n",
    "    \"\"\"\n",
    "    Integrate f from a to b\n",
    "    using the Trapezoildal rule with n intervals.\n",
    "    \"\"\"\n",
    "    x = linspace(a, b, n+1)  # coords of intervals\n",
    "    h = x[1] - x[0]\n",
    "    I = h*(sum(f(x)) - 0.5*(f(a) + f(b)))\n",
    "    return I\n",
    "\n",
    "# define integrand\n",
    "def my_function(x):\n",
    "    return exp(-x**2)\n",
    "\n",
    "minus_infinity = -20 # aprox for minus infinity\n",
    "I = integrate(my_function, minus_infinity, 1, n=1000)\n",
    "print(\"value of integral:\", I)"
   ]
  },
  {
   "cell_type": "code",
   "execution_count": 19,
   "metadata": {
    "attributes": {
     "classes": [],
     "id": "",
     "n": "19"
    }
   },
   "outputs": [
    {
     "name": "stdout",
     "output_type": "stream",
     "text": [
      "69.80000000000001\n"
     ]
    }
   ],
   "source": [
    "# Celsius-Fahrenheit Conversion\n",
    "C = 21\n",
    "F = (9/5)*C + 32\n",
    "print(F)"
   ]
  },
  {
   "cell_type": "markdown",
   "metadata": {},
   "source": [
    "Time to reach height of $y_c$\n",
    "\n",
    "$y_c =v_0 t - \\frac{1}{2} g t^2$\n",
    "\n",
    "Quadratic\n",
    "equation to solve.\n",
    "\n",
    "$\\frac{1}{2}gt^2-v_0t+y_c=0$\n",
    "$t_1=\\Bigg(v_0-\\sqrt{v_0^2-2gy_c}\\Bigg)/g\\quad$up$\\quad(t=t_1)$\n",
    "$t_2=\\Bigg(v_0+\\sqrt{v_0^2-2gy_c}\\Bigg)/g\\quad$down$\\quad(t=t_2>t_1)$"
   ]
  },
  {
   "cell_type": "code",
   "execution_count": 21,
   "metadata": {
    "attributes": {
     "classes": [],
     "id": "",
     "n": "21"
    }
   },
   "outputs": [
    {
     "name": "stdout",
     "output_type": "stream",
     "text": [
      "At t=0.0417064 s and 0.977662 s, the height is 0.2 m.\n"
     ]
    }
   ],
   "source": [
    "v0 = 5\n",
    "g = 9.81\n",
    "yc = 0.2\n",
    "import math\n",
    "t1 = (v0 - math.sqrt(v0**2 - 2 * g * yc)) / g\n",
    "t2 = (v0 + math.sqrt(v0**2 - 2 * g * yc)) / g\n",
    "print('At t=%g s and %g s, the height is %g m.' % (t1, t2, yc))"
   ]
  },
  {
   "cell_type": "markdown",
   "metadata": {},
   "source": [
    "The hyperbolic sine function $sinh(x) = \\frac{1}{2}(e^x - e^{-x})$ and other\n",
    "math functions with right hand sides."
   ]
  },
  {
   "cell_type": "code",
   "execution_count": 23,
   "metadata": {
    "attributes": {
     "classes": [],
     "id": "",
     "n": "23"
    }
   },
   "outputs": [
    {
     "name": "stdout",
     "output_type": "stream",
     "text": [
      "267.74489404101644 267.74489404101644 267.7448940410163\n"
     ]
    }
   ],
   "source": [
    "from math import sinh, exp, e, pi\n",
    "x = 2*pi\n",
    "r1 = sinh(x)\n",
    "r2 = 0.5*(exp(x) - exp(-x))\n",
    "r3 = 0.5*(e**x - e**(-x))\n",
    "print(r1, r2, r3) # with rounding errors"
   ]
  },
  {
   "cell_type": "code",
   "execution_count": 10,
   "metadata": {
    "attributes": {
     "classes": [],
     "id": "",
     "n": "10"
    }
   },
   "outputs": [
    {
     "name": "stdout",
     "output_type": "stream",
     "text": [
      "\n",
      "t1=-1+9.94987j\n",
      "t2=-1-9.94987j\n"
     ]
    }
   ],
   "source": [
    "# Math functions for complex numbers\n",
    "from scipy import *\n",
    "\n",
    "from cmath import sqrt\n",
    "sqrt(-1)  # complex number with cmath\n",
    "\n",
    "from numpy.lib.scimath import sqrt\n",
    "a = 1; b = 2; c = 100\n",
    "r1 = (-b + sqrt(b**2 - 4*a*c))/(2*a)\n",
    "r2 = (-b - sqrt(b**2 - 4*a*c))/(2*a)\n",
    "print(\"\"\"\n",
    "t1={r1:g}\n",
    "t2={r2:g}\"\"\".format(r1=r1, r2=r2))"
   ]
  },
  {
   "cell_type": "code",
   "execution_count": 15,
   "metadata": {
    "attributes": {
     "classes": [],
     "id": "",
     "n": "15"
    }
   },
   "outputs": [
    {
     "name": "stdout",
     "output_type": "stream",
     "text": [
      "At time -g*t + v0\n",
      "acceleration: -g\n",
      "integration of dydt wrt t -g*t**2/2 + t*v0\n",
      "As a function compute y = 5\n"
     ]
    }
   ],
   "source": [
    "# Symbolic computing\n",
    "from sympy import (\n",
    "    symbols,  # define symbols for symbolic math\n",
    "    diff,  # differentiate expressions\n",
    "    integrate,  # integrate expressions\n",
    "    Rational,  # define rational numbers\n",
    "    lambdify,  # turn symbolic expr. into python functions\n",
    "    )\n",
    "\n",
    "# declare symbolic variables\n",
    "t, v0, g = symbols('t v0 g')\n",
    "# formula\n",
    "y = v0*t - Rational(1,2)*g*t**2\n",
    "dydt = diff(y ,t)\n",
    "print(\"At time\", dydt)\n",
    "print(\"acceleration:\", diff(y,t,t)) # 2nd derivative\n",
    "y2 = integrate(dydt, t)\n",
    "print(\"integration of dydt wrt t\", y2)\n",
    "\n",
    "# convert to python function\n",
    "v = lambdify([t, v0, g],  # arguments in v\n",
    "             dydt)  # symbolic expression\n",
    "print(\"As a function compute y = %g\" % v(t=0, v0=5, g=9.81))"
   ]
  },
  {
   "cell_type": "code",
   "execution_count": 17,
   "metadata": {
    "attributes": {
     "classes": [],
     "id": "",
     "n": "17"
    }
   },
   "outputs": [
    {
     "name": "stdout",
     "output_type": "stream",
     "text": [
      "\n",
      "if y = 0 for t then t solves y for [0,0]\n",
      "\n"
     ]
    }
   ],
   "source": [
    "# equation solving for expression e=0, t unknown\n",
    "from sympy import solve\n",
    "roots = solve(y, t)  # e is y\n",
    "print(\"\"\"\n",
    "If y = 0 for t then t solves y for [{},{}].\n",
    "\n",
    "\"\"\".format(\n",
    "            y.subs(t, roots[0]),\n",
    "            y.subs(t, roots[1])\n",
    "          ) )"
   ]
  },
  {
   "cell_type": "markdown",
   "metadata": {},
   "source": [
    "From solving for\n",
    "$y(t)=v_0t-\\frac{1}{2}gt^2$,\n",
    "$t \\in [0, \\frac{2 v_0}{g}]$"
   ]
  },
  {
   "cell_type": "code",
   "execution_count": 20,
   "metadata": {
    "attributes": {
     "classes": [],
     "id": "",
     "n": "20"
    }
   },
   "outputs": [
    {
     "data": {
      "text/latex": [
       "$\\displaystyle 1 + t + \\frac{t^{2}}{2} - \\frac{t^{4}}{8} - \\frac{t^{5}}{15} - \\frac{t^{6}}{240} + \\frac{t^{7}}{90} + O\\left(t^{8}\\right)$"
      ],
      "text/plain": [
       "1 + t + t**2/2 - t**4/8 - t**5/15 - t**6/240 + t**7/90 + O(t**8)"
      ]
     },
     "execution_count": 20,
     "metadata": {},
     "output_type": "execute_result"
    }
   ],
   "source": [
    "# Taylor series to the order n in a variable t around the point t0\n",
    "from sympy import exp, sin, cos\n",
    "f = exp(t)\n",
    "f.series(t, 0, 3)\n",
    "f_sin = exp(sin(t))\n",
    "f_sin.series(t, 0, 8)"
   ]
  },
  {
   "cell_type": "markdown",
   "metadata": {},
   "source": [
    "Taylor Series Polynomial to approximate functions, $1 + t + \\frac{t^{2}}{2} -\n",
    "\\frac{t^{4}}{8} - \\frac{t^{5}}{15} - \\frac{t^{6}}{240} + \\frac{t^{7}}{90} +\n",
    "O\\left(t^{8}\\right)$"
   ]
  },
  {
   "cell_type": "code",
   "execution_count": 24,
   "metadata": {
    "attributes": {
     "classes": [],
     "id": "",
     "n": "24"
    }
   },
   "outputs": [
    {
     "name": "stdout",
     "output_type": "stream",
     "text": [
      "-sin(x)*sin(y) + cos(x)*cos(y)\n",
      "cos(x + y)\n",
      "sin(x)*cos(y) + sin(y)*cos(x)\n"
     ]
    }
   ],
   "source": [
    "# expanding and simplifying expressions\n",
    "from sympy import simplify, expand\n",
    "x, y = symbols('x y')\n",
    "f = -sin(x) * sin(y) + cos(x) * cos(y)\n",
    "print(f)\n",
    "print(simplify(f))\n",
    "print(expand(sin(x + y), trig=True))  # expand as trig funct"
   ]
  },
  {
   "cell_type": "markdown",
   "metadata": {},
   "source": [
    "Trajectory of an object\n",
    "$$f(x) = x tan \\theta - \\frac{1}{2 v^{2}_{0}}\n",
    "\\frac{gx^2}{cos^{2}\\theta} + y_0$$"
   ]
  },
  {
   "cell_type": "code",
   "execution_count": 28,
   "metadata": {
    "attributes": {
     "classes": [],
     "id": "",
     "n": "28"
    }
   },
   "outputs": [
    {
     "name": "stdout",
     "output_type": "stream",
     "text": [
      "v0      = 15.0 km/h\n",
      "theta   = 60 degree\n",
      "y0      = 1.0 m\n",
      "x       = 0.5 m\n",
      "y       = 1.6 m\n"
     ]
    }
   ],
   "source": [
    "# Trajectory of an object\n",
    "g = 9.81      # m/s**2\n",
    "v0 = 15       # km/h\n",
    "theta = 60    # degree\n",
    "x = 0.5       # m\n",
    "y0 = 1        # m\n",
    "\n",
    "print(\"\"\"\\\n",
    "v0      = %.1f km/h\n",
    "theta   = %d degree\n",
    "y0      = %.1f m\n",
    "x       = %.1f m\\\n",
    "\"\"\" % (v0, theta, y0, x))\n",
    "\n",
    "from math import pi, tan, cos\n",
    "v0 = v0/3.6             # km/h 1000/1 to m/s 1/60\n",
    "theta = theta*pi/180    # degree to radians\n",
    "\n",
    "y = x*tan(theta) - 1/(2*v0**2)*g*x**2/((cos(theta))**2)+y0\n",
    "print(\"y       = %.1f m\" % y)"
   ]
  },
  {
   "cell_type": "markdown",
   "metadata": {},
   "source": [
    "Conversion from meters to British units"
   ]
  },
  {
   "cell_type": "code",
   "execution_count": 29,
   "metadata": {
    "attributes": {
     "classes": [],
     "id": "",
     "n": "29"
    }
   },
   "outputs": [
    {
     "name": "stdout",
     "output_type": "stream",
     "text": [
      "\n",
      "Given 640 meters conversions for;\n",
      "inches are 25196.85 in\n",
      "feet are 2099.74 ft\n",
      "yards are 699.91 yd\n",
      "miles are 0.398 m\n",
      "\n"
     ]
    }
   ],
   "source": [
    "# Convert meters to british length.\n",
    "meters = 640\n",
    "m = symbols('m')\n",
    "in_m = m/(2.54)*100\n",
    "ft_m = in_m / 12\n",
    "yrd_m = ft_m / 3\n",
    "bm_m = yrd_m / 1760\n",
    "\n",
    "f_in_m = lambdify([m], in_m)\n",
    "f_ft_m = lambdify([m], ft_m)\n",
    "f_yrd_m = lambdify([m], yrd_m)\n",
    "f_bm_m = lambdify([m], bm_m)\n",
    "\n",
    "print(\"\"\"\n",
    "Given {meters:g} meters conversions for;\n",
    "inches are {inches:.2f} in\n",
    "feet are {feet:.2f} ft\n",
    "yards are {yards:.2f} yd\n",
    "miles are {miles:.3f} m\n",
    "\"\"\".format(meters=meters,\n",
    "           inches=f_in_m(meters),\n",
    "           feet=f_ft_m(meters),\n",
    "           yards=f_yrd_m(meters),\n",
    "           miles=f_bm_m(meters)))"
   ]
  },
  {
   "cell_type": "markdown",
   "metadata": {},
   "source": [
    "Gaussian function \n",
    "$$f(x) = \\frac{1}{\\sqrt{2\\pi}s} \\text{exp} \\Bigg[\n",
    "-{\\frac{1}{2} \\Big( \\frac{x-m}{s} \\Big)^2} \\Bigg]$$"
   ]
  },
  {
   "cell_type": "code",
   "execution_count": 15,
   "metadata": {
    "attributes": {
     "classes": [],
     "id": "",
     "n": "15"
    }
   },
   "outputs": [
    {
     "data": {
      "text/plain": [
       "0.1760326633821498"
      ]
     },
     "execution_count": 15,
     "metadata": {},
     "output_type": "execute_result"
    }
   ],
   "source": [
    "from sympy import pi, exp, sqrt, symbols, lambdify\n",
    "\n",
    "s, x, m = symbols(\"s x m\")\n",
    "y = 1/ (sqrt(2*pi)*s) * exp(-0.5*((x-m)/s)**2)\n",
    "gaus_d = lambdify([m, s, x], y)\n",
    "gaus_d(m = 0, s = 2, x = 1)"
   ]
  },
  {
   "cell_type": "markdown",
   "metadata": {},
   "source": [
    "Drag force due to air resistance on an object as the expression;\n",
    "\n",
    "$$\n",
    "F_d =\n",
    "\\frac{1}{2} C_D \\varrho A V^2\n",
    "$$\n",
    "Where\n",
    " * $C_D$ drag coefficient (based on\n",
    "roughness and shape)\n",
    "   * As 0.4\n",
    " * $\\varrho$ is air density\n",
    "   * Air density of\n",
    "air is $\\varrho$ = 1.2 kg/m$^{-3}$\n",
    " * V is velocity of the object \n",
    " * A is the\n",
    "cross-sectional area (normal to the velocity direction)\n",
    "   * $A = \\pi a^{2}$ for\n",
    "an object with a radius $a$\n",
    "   * $a$ = 11 cm\n",
    "\n",
    "Gravity Force on an object with\n",
    "mass $m$ is $F_g = mg$\n",
    "Where\n",
    " * $g$ = 9.81 m/s$^{-2}$\n",
    " * mass = 0.43kg\n",
    "\n",
    "$F_d$\n",
    "and $F_g$ results\n",
    "in a difference relationship between air\n",
    "resistance versus\n",
    "gravity at impact\n",
    "time\n",
    "\n",
    "$\\frac{kg}{m^{-3}}$ $\\frac{m}{s^{-2}}$"
   ]
  },
  {
   "cell_type": "code",
   "execution_count": 2,
   "metadata": {
    "attributes": {
     "classes": [],
     "id": "",
     "n": "19"
    }
   },
   "outputs": [
    {
     "name": "stdout",
     "output_type": "stream",
     "text": [
      "ratio of drag force=6335.5 and gravity force=4.2: 1501.9\n",
      "ratio of drag force=101368.7 and gravity force=4.2: 24030.7\n"
     ]
    }
   ],
   "source": [
    "from sympy import (Rational, lambdify, symbols, pi)\n",
    "\n",
    "g = 9.81  # gravity in m/s**(-2)\n",
    "air_density = 1.2  # kg/m**(-3)\n",
    "a = 11  # radius in cm\n",
    "x_area = pi * a**2  # cross-sectional area\n",
    "m = 0.43  # mass in kg\n",
    "Fg = m * g  # gravity force\n",
    "high_velocity = 120 / 3.6  # impact velocity in km/h\n",
    "low_velocity = 30 / 3.6  # impact velocity in km/h\n",
    "\n",
    "Cd, Q, A, V = symbols(\"Cd Q A V\")\n",
    "y = Rational(1, 2) * Cd * Q * A * V**2\n",
    "drag_force = lambdify([Cd, Q, A, V], y)\n",
    "\n",
    "Fd_low_impact = drag_force(Cd=0.4,\n",
    "                       Q=air_density,\n",
    "                       A=x_area,\n",
    "                       V=low_velocity)\n",
    "\n",
    "Fd_high_impact = drag_force(Cd=0.4,\n",
    "                       Q=air_density,\n",
    "                       A=x_area,\n",
    "                       V=high_velocity)\n",
    "\n",
    "print(\"ratio of drag force=%.1f and gravity force=%.1f: %.1f\" % \\\n",
    "      (Fd_low_impact, Fg, float(Fd_low_impact/Fg)))\n",
    "\n",
    "print(\"ratio of drag force=%.1f and gravity force=%.1f: %.1f\" % \\\n",
    "      (Fd_high_impact, Fg, float(Fd_high_impact/Fg)))"
   ]
  },
  {
   "cell_type": "markdown",
   "metadata": {},
   "source": [
    "$$t=\\frac{M^{2/3} c \\rho^{1/3}} {K \\pi^2 (4\\pi/3)^{2/3}}\\log{\\left[0.76 \\frac{\\left(T_o - T_w\\right)}{- T_w + T_y} \\right]}$$"
   ]
  },
  {
   "cell_type": "code",
   "execution_count": null,
   "metadata": {},
   "outputs": [],
   "source": [
    " "
   ]
  }
 ],
 "metadata": {
  "kernelspec": {
   "display_name": "Python 3",
   "language": "python",
   "name": "python3"
  },
  "language_info": {
   "codemirror_mode": {
    "name": "ipython",
    "version": 3
   },
   "file_extension": ".py",
   "mimetype": "text/x-python",
   "name": "python",
   "nbconvert_exporter": "python",
   "pygments_lexer": "ipython3",
   "version": "3.5.3"
  }
 },
 "nbformat": 4,
 "nbformat_minor": 2
}
