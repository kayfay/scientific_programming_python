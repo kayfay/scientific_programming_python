{
 "cells": [
  {
   "cell_type": "markdown",
   "metadata": {},
   "source": [
    "## Newton's Second Law of Motion\n",
    "\n",
    "$y(t) = v_0 t - \\frac{1}{2} g t^2$"
   ]
  },
  {
   "cell_type": "code",
   "execution_count": 74,
   "metadata": {
    "attributes": {
     "classes": [],
     "id": "",
     "n": "13"
    },
    "scrolled": true
   },
   "outputs": [
    {
     "data": {
      "text/plain": [
       "1.2342"
      ]
     },
     "execution_count": 74,
     "metadata": {},
     "output_type": "execute_result"
    }
   ],
   "source": [
    "5 * 0.6 - 0.5 * 9.81 * 0.6 ** 2"
   ]
  },
  {
   "cell_type": "markdown",
   "metadata": {},
   "source": [
    "## Height of an object\n",
    "\n",
    "$y(t)=v_0t-\\frac{1}{2}gt^2$\n",
    "\n",
    "\n",
    " * v0 as initial velocity of objects\n",
    " * g\n",
    "acceleration of gravity\n",
    " * t as time\n",
    "\n",
    "\n",
    "With y=0 as axis of object start when t=0\n",
    "at initial time.\n",
    "\n",
    "$v_0t-\\frac{1}{2}gt^2 = t(v_0-\\frac{1}{2}gt)=0 \\Rightarrow\n",
    "t=0$ or $t=\\frac{v_0}{g}$\n",
    "\n",
    " * time to move up and return to y=0, return seconds\n",
    "is $\\frac{2 v_0}{g}$\n",
    " and restricted to $t \\in \\left[ 0, \\  \\frac{2\n",
    "v_{0}}{g}\\right]$"
   ]
  },
  {
   "cell_type": "code",
   "execution_count": 75,
   "metadata": {
    "attributes": {
     "classes": [],
     "id": "",
     "n": "15"
    }
   },
   "outputs": [
    {
     "name": "stdout",
     "output_type": "stream",
     "text": [
      "1.2342\n"
     ]
    }
   ],
   "source": [
    "# variables for newton's second law of motion\n",
    "v0 = 5\n",
    "g = 9.81\n",
    "t = 0.6\n",
    "y = v0*t - 0.5*g*t**2\n",
    "print(y)"
   ]
  },
  {
   "cell_type": "code",
   "execution_count": 76,
   "metadata": {
    "attributes": {
     "classes": [],
     "id": "",
     "n": "18"
    }
   },
   "outputs": [
    {
     "name": "stdout",
     "output_type": "stream",
     "text": [
      "1.2342\n"
     ]
    }
   ],
   "source": [
    "# or using good pythonic naming conventions\n",
    "initial_velocity = 5\n",
    "acceleration_of_gravity = 9.81\n",
    "TIME = 0.6\n",
    "VerticalPositionOfBall = initial_velocity*TIME - \\\n",
    "                         0.5*acceleration_of_gravity*TIME**2\n",
    "print(VerticalPositionOfBall)"
   ]
  },
  {
   "cell_type": "markdown",
   "metadata": {},
   "source": [
    "## Integral calculation\n",
    "$$\n",
    "\\int_{-\\infty}^1 e^{-x^2}dx{\\thinspace .}\n",
    "$$"
   ]
  },
  {
   "cell_type": "code",
   "execution_count": 77,
   "metadata": {
    "attributes": {
     "classes": [],
     "id": "",
     "n": "4"
    }
   },
   "outputs": [
    {
     "name": "stdout",
     "output_type": "stream",
     "text": [
      "value of integral: 1.6330240187288536\n"
     ]
    }
   ],
   "source": [
    "from numpy import *\n",
    "\n",
    "def integrate(f, a, b, n=100):\n",
    "    \"\"\"\n",
    "    Integrate f from a to b\n",
    "    using the Trapezoildal rule with n intervals.\n",
    "    \"\"\"\n",
    "    x = linspace(a, b, n+1)  # coords of intervals\n",
    "    h = x[1] - x[0]\n",
    "    I = h*(sum(f(x)) - 0.5*(f(a) + f(b)))\n",
    "    return I\n",
    "\n",
    "# define integrand\n",
    "def my_function(x):\n",
    "    return exp(-x**2)\n",
    "\n",
    "minus_infinity = -20 # aprox for minus infinity\n",
    "I = integrate(my_function, minus_infinity, 1, n=1000)\n",
    "print(\"value of integral:\", I)"
   ]
  },
  {
   "cell_type": "code",
   "execution_count": 78,
   "metadata": {
    "attributes": {
     "classes": [],
     "id": "",
     "n": "19"
    }
   },
   "outputs": [
    {
     "name": "stdout",
     "output_type": "stream",
     "text": [
      "69.80000000000001\n"
     ]
    }
   ],
   "source": [
    "# Celsius-Fahrenheit Conversion\n",
    "C = 21\n",
    "F = (9/5)*C + 32\n",
    "print(F)"
   ]
  },
  {
   "cell_type": "markdown",
   "metadata": {},
   "source": [
    "## Time to reach height of $y_c$\n",
    "\n",
    "$y_c =v_0 t - \\frac{1}{2} g t^2$\n",
    "\n",
    "Quadratic\n",
    "equation to solve.\n",
    "\n",
    "$\\frac{1}{2}gt^2-v_0t+y_c=0$\n",
    "\n",
    "$t_1=\\Bigg(v_0-\\sqrt{v_0^2-2gy_c}\\Bigg)/g\\quad$up$\\quad(t=t_1)$\n",
    "\n",
    "$t_2=\\Bigg(v_0+\\sqrt{v_0^2-2gy_c}\\Bigg)/g\\quad$down$\\quad(t=t_2>t_1)$"
   ]
  },
  {
   "cell_type": "code",
   "execution_count": 79,
   "metadata": {
    "attributes": {
     "classes": [],
     "id": "",
     "n": "21"
    }
   },
   "outputs": [
    {
     "name": "stdout",
     "output_type": "stream",
     "text": [
      "At t=0.0417064 s and 0.977662 s, the height is 0.2 m.\n"
     ]
    }
   ],
   "source": [
    "v0 = 5\n",
    "g = 9.81\n",
    "yc = 0.2\n",
    "import math\n",
    "t1 = (v0 - math.sqrt(v0**2 - 2 * g * yc)) / g\n",
    "t2 = (v0 + math.sqrt(v0**2 - 2 * g * yc)) / g\n",
    "print('At t=%g s and %g s, the height is %g m.' % (t1, t2, yc))"
   ]
  },
  {
   "cell_type": "markdown",
   "metadata": {},
   "source": [
    "## The hyperbolic sine function $sinh(x) = \\frac{1}{2}(e^x - e^{-x})$ and other math functions with right hand sides."
   ]
  },
  {
   "cell_type": "code",
   "execution_count": 80,
   "metadata": {
    "attributes": {
     "classes": [],
     "id": "",
     "n": "23"
    }
   },
   "outputs": [
    {
     "name": "stdout",
     "output_type": "stream",
     "text": [
      "267.74489404101644 267.74489404101644 267.7448940410163\n"
     ]
    }
   ],
   "source": [
    "from math import sinh, exp, e, pi\n",
    "x = 2*pi\n",
    "r1 = sinh(x)\n",
    "r2 = 0.5*(exp(x) - exp(-x))\n",
    "r3 = 0.5*(e**x - e**(-x))\n",
    "print(r1, r2, r3) # with rounding errors"
   ]
  },
  {
   "cell_type": "code",
   "execution_count": 81,
   "metadata": {
    "attributes": {
     "classes": [],
     "id": "",
     "n": "10"
    }
   },
   "outputs": [
    {
     "name": "stdout",
     "output_type": "stream",
     "text": [
      "\n",
      "t1=-1+9.94987j\n",
      "t2=-1-9.94987j\n"
     ]
    }
   ],
   "source": [
    "# Math functions for complex numbers\n",
    "from scipy import *\n",
    "\n",
    "from cmath import sqrt\n",
    "sqrt(-1)  # complex number with cmath\n",
    "\n",
    "from numpy.lib.scimath import sqrt\n",
    "a = 1; b = 2; c = 100\n",
    "r1 = (-b + sqrt(b**2 - 4*a*c))/(2*a)\n",
    "r2 = (-b - sqrt(b**2 - 4*a*c))/(2*a)\n",
    "print(\"\"\"\n",
    "t1={r1:g}\n",
    "t2={r2:g}\"\"\".format(r1=r1, r2=r2))"
   ]
  },
  {
   "cell_type": "code",
   "execution_count": 82,
   "metadata": {
    "attributes": {
     "classes": [],
     "id": "",
     "n": "15"
    }
   },
   "outputs": [
    {
     "name": "stdout",
     "output_type": "stream",
     "text": [
      "At time -g*t + v0\n",
      "acceleration: -g\n",
      "integration of dydt wrt t -g*t**2/2 + t*v0\n",
      "As a function compute y = 5\n"
     ]
    }
   ],
   "source": [
    "# Symbolic computing\n",
    "from sympy import (\n",
    "    symbols,  # define symbols for symbolic math\n",
    "    diff,  # differentiate expressions\n",
    "    integrate,  # integrate expressions\n",
    "    Rational,  # define rational numbers\n",
    "    lambdify,  # turn symbolic expr. into python functions\n",
    "    )\n",
    "\n",
    "# declare symbolic variables\n",
    "t, v0, g = symbols('t v0 g')\n",
    "# formula\n",
    "y = v0*t - Rational(1,2)*g*t**2\n",
    "dydt = diff(y ,t)\n",
    "print(\"At time\", dydt)\n",
    "print(\"acceleration:\", diff(y,t,t)) # 2nd derivative\n",
    "y2 = integrate(dydt, t)\n",
    "print(\"integration of dydt wrt t\", y2)\n",
    "\n",
    "# convert to python function\n",
    "v = lambdify([t, v0, g],  # arguments in v\n",
    "             dydt)  # symbolic expression\n",
    "print(\"As a function compute y = %g\" % v(t=0, v0=5, g=9.81))"
   ]
  },
  {
   "cell_type": "code",
   "execution_count": 83,
   "metadata": {
    "attributes": {
     "classes": [],
     "id": "",
     "n": "17"
    }
   },
   "outputs": [
    {
     "name": "stdout",
     "output_type": "stream",
     "text": [
      "\n",
      "If y = 0 for t then t solves y for [0,0].\n",
      "\n",
      "\n"
     ]
    }
   ],
   "source": [
    "# equation solving for expression e=0, t unknown\n",
    "from sympy import solve\n",
    "roots = solve(y, t)  # e is y\n",
    "print(\"\"\"\n",
    "If y = 0 for t then t solves y for [{},{}].\n",
    "\n",
    "\"\"\".format(\n",
    "            y.subs(t, roots[0]),\n",
    "            y.subs(t, roots[1])\n",
    "          ) )"
   ]
  },
  {
   "cell_type": "markdown",
   "metadata": {},
   "source": [
    "$y(t)=v_0t-\\frac{1}{2}gt^2$,\n",
    "$t \\in [0, \\frac{2 v_0}{g}]$"
   ]
  },
  {
   "cell_type": "code",
   "execution_count": 84,
   "metadata": {
    "attributes": {
     "classes": [],
     "id": "",
     "n": "20"
    }
   },
   "outputs": [
    {
     "data": {
      "text/latex": [
       "$\\displaystyle 1 + t + \\frac{t^{2}}{2} - \\frac{t^{4}}{8} - \\frac{t^{5}}{15} - \\frac{t^{6}}{240} + \\frac{t^{7}}{90} + O\\left(t^{8}\\right)$"
      ],
      "text/plain": [
       "1 + t + t**2/2 - t**4/8 - t**5/15 - t**6/240 + t**7/90 + O(t**8)"
      ]
     },
     "execution_count": 84,
     "metadata": {},
     "output_type": "execute_result"
    }
   ],
   "source": [
    "# Taylor series to the order n in a variable t around the point t0\n",
    "from sympy import exp, sin, cos\n",
    "f = exp(t)\n",
    "f.series(t, 0, 3)\n",
    "f_sin = exp(sin(t))\n",
    "f_sin.series(t, 0, 8)"
   ]
  },
  {
   "cell_type": "markdown",
   "metadata": {},
   "source": [
    "## Taylor Series Polynomial to approximate functions; \n",
    "$1 + t + \\frac{t^{2}}{2} -\n",
    "\\frac{t^{4}}{8} - \\frac{t^{5}}{15} - \\frac{t^{6}}{240} + \\frac{t^{7}}{90} +\n",
    "O\\left(t^{8}\\right)$"
   ]
  },
  {
   "cell_type": "code",
   "execution_count": 85,
   "metadata": {
    "attributes": {
     "classes": [],
     "id": "",
     "n": "24"
    }
   },
   "outputs": [
    {
     "name": "stdout",
     "output_type": "stream",
     "text": [
      "-sin(x)*sin(y) + cos(x)*cos(y)\n",
      "cos(x + y)\n",
      "sin(x)*cos(y) + sin(y)*cos(x)\n"
     ]
    }
   ],
   "source": [
    "# expanding and simplifying expressions\n",
    "from sympy import simplify, expand\n",
    "x, y = symbols('x y')\n",
    "f = -sin(x) * sin(y) + cos(x) * cos(y)\n",
    "print(f)\n",
    "print(simplify(f))\n",
    "print(expand(sin(x + y), trig=True))  # expand as trig funct"
   ]
  },
  {
   "cell_type": "markdown",
   "metadata": {},
   "source": [
    "## Trajectory of an object\n",
    "$$f(x) = x tan \\theta - \\frac{1}{2 v^{2}_{0}} \\cdot\n",
    "\\frac{gx^2}{cos^{2}\\theta} + y_0$$"
   ]
  },
  {
   "cell_type": "code",
   "execution_count": 86,
   "metadata": {
    "attributes": {
     "classes": [],
     "id": "",
     "n": "28"
    }
   },
   "outputs": [
    {
     "name": "stdout",
     "output_type": "stream",
     "text": [
      "v0      = 15.0 km/h\n",
      "theta   = 60 degree\n",
      "y0      = 1.0 m\n",
      "x       = 0.5 m\n",
      "y       = 1.6 m\n"
     ]
    }
   ],
   "source": [
    "# Trajectory of an object\n",
    "g = 9.81      # m/s**2\n",
    "v0 = 15       # km/h\n",
    "theta = 60    # degree\n",
    "x = 0.5       # m\n",
    "y0 = 1        # m\n",
    "\n",
    "print(\"\"\"\\\n",
    "v0      = %.1f km/h\n",
    "theta   = %d degree\n",
    "y0      = %.1f m\n",
    "x       = %.1f m\\\n",
    "\"\"\" % (v0, theta, y0, x))\n",
    "\n",
    "from math import pi, tan, cos\n",
    "v0 = v0/3.6             # km/h 1000/1 to m/s 1/60\n",
    "theta = theta*pi/180    # degree to radians\n",
    "\n",
    "y = x*tan(theta) - 1/(2*v0**2)*g*x**2/((cos(theta))**2)+y0\n",
    "print(\"y       = %.1f m\" % y)"
   ]
  },
  {
   "cell_type": "markdown",
   "metadata": {},
   "source": [
    "## Conversion from meters to British units"
   ]
  },
  {
   "cell_type": "code",
   "execution_count": 87,
   "metadata": {
    "attributes": {
     "classes": [],
     "id": "",
     "n": "29"
    }
   },
   "outputs": [
    {
     "name": "stdout",
     "output_type": "stream",
     "text": [
      "\n",
      "Given 640 meters conversions for;\n",
      "inches are 25196.85 in\n",
      "feet are 2099.74 ft\n",
      "yards are 699.91 yd\n",
      "miles are 0.398 m\n",
      "\n"
     ]
    }
   ],
   "source": [
    "# Convert meters to british length.\n",
    "meters = 640\n",
    "m = symbols('m')\n",
    "in_m = m/(2.54)*100\n",
    "ft_m = in_m / 12\n",
    "yrd_m = ft_m / 3\n",
    "bm_m = yrd_m / 1760\n",
    "\n",
    "f_in_m = lambdify([m], in_m)\n",
    "f_ft_m = lambdify([m], ft_m)\n",
    "f_yrd_m = lambdify([m], yrd_m)\n",
    "f_bm_m = lambdify([m], bm_m)\n",
    "\n",
    "print(\"\"\"\n",
    "Given {meters:g} meters conversions for;\n",
    "inches are {inches:.2f} in\n",
    "feet are {feet:.2f} ft\n",
    "yards are {yards:.2f} yd\n",
    "miles are {miles:.3f} m\n",
    "\"\"\".format(meters=meters,\n",
    "           inches=f_in_m(meters),\n",
    "           feet=f_ft_m(meters),\n",
    "           yards=f_yrd_m(meters),\n",
    "           miles=f_bm_m(meters)))"
   ]
  },
  {
   "cell_type": "markdown",
   "metadata": {},
   "source": [
    "## Gaussian function \n",
    "$$f(x) = \\frac{1}{\\sqrt{2\\pi}s} \\text{exp} \\Bigg[\n",
    "-{\\frac{1}{2} \\Big( \\frac{x-m}{s} \\Big)^2} \\Bigg]$$"
   ]
  },
  {
   "cell_type": "code",
   "execution_count": 88,
   "metadata": {
    "attributes": {
     "classes": [],
     "id": "",
     "n": "15"
    }
   },
   "outputs": [
    {
     "data": {
      "text/plain": [
       "0.1760326633821498"
      ]
     },
     "execution_count": 88,
     "metadata": {},
     "output_type": "execute_result"
    }
   ],
   "source": [
    "from sympy import pi, exp, sqrt, symbols, lambdify\n",
    "\n",
    "s, x, m = symbols(\"s x m\")\n",
    "y = 1/ (sqrt(2*pi)*s) * exp(-0.5*((x-m)/s)**2)\n",
    "gaus_d = lambdify([m, s, x], y)\n",
    "gaus_d(m = 0, s = 2, x = 1)"
   ]
  },
  {
   "cell_type": "markdown",
   "metadata": {},
   "source": [
    "## Drag force due to air resistance on an object as the expression;\n",
    "\n",
    "$$\n",
    "F_d =\n",
    "\\frac{1}{2} C_D \\varrho A V^2\n",
    "$$\n",
    "Where\n",
    " * $C_D$ drag coefficient (based on\n",
    "roughness and shape)\n",
    "   * As 0.4\n",
    " * $\\varrho$ is air density\n",
    "   * Air density of\n",
    "air is $\\varrho$ = 1.2 kg/m$^{-3}$\n",
    " * V is velocity of the object \n",
    " * A is the\n",
    "cross-sectional area (normal to the velocity direction)\n",
    "   * $A = \\pi a^{2}$ for\n",
    "an object with a radius $a$\n",
    "   * $a$ = 11 cm\n",
    "\n",
    "Gravity Force on an object with\n",
    "mass $m$ is $F_g = mg$\n",
    "Where\n",
    " * $g$ = 9.81 m/s$^{-2}$\n",
    " * mass = 0.43kg\n",
    "\n",
    "$F_d$\n",
    "and $F_g$ results\n",
    "in a difference relationship between air\n",
    "resistance versus\n",
    "gravity at impact\n",
    "time\n",
    "\n",
    "$$\\frac{kg}{m^{-3}} \\qquad and \\qquad \\frac{m}{s^{-2}}$$"
   ]
  },
  {
   "cell_type": "code",
   "execution_count": 89,
   "metadata": {
    "attributes": {
     "classes": [],
     "id": "",
     "n": "19"
    },
    "lines_to_next_cell": 2
   },
   "outputs": [
    {
     "name": "stdout",
     "output_type": "stream",
     "text": [
      "ratio of drag force=6335.5 and gravity force=4.2: 1501.9\n",
      "ratio of drag force=101368.7 and gravity force=4.2: 24030.7\n"
     ]
    }
   ],
   "source": [
    "from sympy import (Rational, lambdify, symbols, pi)\n",
    "\n",
    "g = 9.81  # gravity in m/s**(-2)\n",
    "air_density = 1.2  # kg/m**(-3)\n",
    "a = 11  # radius in cm\n",
    "x_area = pi * a**2  # cross-sectional area\n",
    "m = 0.43  # mass in kg\n",
    "Fg = m * g  # gravity force\n",
    "high_velocity = 120 / 3.6  # impact velocity in km/h\n",
    "low_velocity = 30 / 3.6  # impact velocity in km/h\n",
    "\n",
    "Cd, Q, A, V = symbols(\"Cd Q A V\")\n",
    "y = Rational(1, 2) * Cd * Q * A * V**2\n",
    "drag_force = lambdify([Cd, Q, A, V], y)\n",
    "\n",
    "Fd_low_impact = drag_force(Cd=0.4,\n",
    "                       Q=air_density,\n",
    "                       A=x_area,\n",
    "                       V=low_velocity)\n",
    "\n",
    "Fd_high_impact = drag_force(Cd=0.4,\n",
    "                       Q=air_density,\n",
    "                       A=x_area,\n",
    "                       V=high_velocity)\n",
    "\n",
    "print(\"ratio of drag force=%.1f and gravity force=%.1f: %.1f\" % \\\n",
    "      (Fd_low_impact, Fg, float(Fd_low_impact/Fg)))\n",
    "\n",
    "print(\"ratio of drag force=%.1f and gravity force=%.1f: %.1f\" % \\\n",
    "      (Fd_high_impact, Fg, float(Fd_high_impact/Fg)))"
   ]
  },
  {
   "cell_type": "markdown",
   "metadata": {},
   "source": [
    "## Critical temperature of an object\n",
    "\n",
    "$$t=\\frac{M^{2/3} c \\rho^{1/3}} {K \\pi^2 (4\\pi/3)^{2/3}}\\log{\\left[0.76 \\frac{\\left(T_o - T_w\\right)}{- T_w + T_y} \\right]}$$\n",
    "\n",
    "An object heats at the center differently from it's outside, an objects center may also have a different density than it's outside."
   ]
  },
  {
   "cell_type": "code",
   "execution_count": 90,
   "metadata": {},
   "outputs": [],
   "source": [
    "def critical_temp(init_temp=4, final_temp=70, water_temp=100,\n",
    "                  mass=47, density=1.038, heat_capacity=3.7,\n",
    "                  thermal_conductivity=5.4*10**-3):\n",
    "    \"\"\"Calculates the time for the center critical temp as a function \n",
    "    of temperature of applied heat where exceeding passes a critical point.\n",
    "\n",
    "    Heating to a temperature with prevention to exceeding critical\n",
    "    points. Be defining critial temperature points based on\n",
    "    composition, e.g., 63 degrees celcius outter and 70 degrees\n",
    "    celcius inner we can express temperature and time as a\n",
    "    function.\n",
    "\n",
    "    t = (M**(2/3)*c*rho**(1/3)/(K*pi**2*(4*pi/3)**(2/3)))*(ln(0.76*((To-Tw)/(Ty-Tw))))\n",
    "\n",
    "    Arguments:\n",
    "        init_temp: initial temperature in C of object e.g., 4, 20\n",
    "        final_temp: desired temperature in C of object e.g., 70\n",
    "        water_temp: temp in C for boiling water as a conductive fluid e.g., 100\n",
    "        mass: Mass in grams of an object, e.g., small: 47, large: 67\n",
    "        density: rho in g cm**-3 of the object e.g., 1.038\n",
    "        heat_capacity: c in J g**-1 K-1 e.g., 3.7\n",
    "        thermal_conductivity: in W cm**-1 K**-1 e.g., 5.4*10**-3\n",
    "    Returns: Time as a float in seconds to reach temperature Ty.\n",
    "    \"\"\"\n",
    "    from sympy import symbols\n",
    "    from sympy import lambdify\n",
    "    from sympy import sympify\n",
    "    from numpy import pi\n",
    "    from math import log as ln # using ln to represent natural log\n",
    "\n",
    "    # using non-pythonic math notation create variables\n",
    "    M, c, rho, K, To, Tw, Ty = symbols(\"M c rho K To Tw Ty\")\n",
    "    # writing out the formula\n",
    "    t = sympify('(M**(2/3)*c*rho**(1/3)/(K*pi**2*(4*pi/3)**(2/3)))*(ln(0.76*((To-Tw)/(Ty-Tw))))')\n",
    "    # using symbolic formula representation to create a function\n",
    "    time_for_Ty = lambdify([M, c, rho, K, To, Tw, Ty], t)\n",
    "    # return the computed value\n",
    "    return time_for_Ty(M=mass, c=heat_capacity, rho=density, K=thermal_conductivity,\n",
    "                       To=init_temp, Tw=water_temp, Ty=final_temp)\n",
    "\n",
    "\n"
   ]
  },
  {
   "cell_type": "code",
   "execution_count": 91,
   "metadata": {},
   "outputs": [
    {
     "data": {
      "text/plain": [
       "313.09454902221626"
      ]
     },
     "execution_count": 91,
     "metadata": {},
     "output_type": "execute_result"
    }
   ],
   "source": [
    "critical_temp()"
   ]
  },
  {
   "cell_type": "code",
   "execution_count": 92,
   "metadata": {},
   "outputs": [
    {
     "data": {
      "text/plain": [
       "248.86253747844728"
      ]
     },
     "execution_count": 92,
     "metadata": {},
     "output_type": "execute_result"
    }
   ],
   "source": [
    "critical_temp(init_temp=20)"
   ]
  },
  {
   "cell_type": "code",
   "execution_count": 93,
   "metadata": {},
   "outputs": [
    {
     "data": {
      "text/plain": [
       "408.3278117759983"
      ]
     },
     "execution_count": 93,
     "metadata": {},
     "output_type": "execute_result"
    }
   ],
   "source": [
    "critical_temp(mass=70)"
   ]
  },
  {
   "cell_type": "code",
   "execution_count": 94,
   "metadata": {
    "scrolled": true
   },
   "outputs": [
    {
     "data": {
      "text/plain": [
       "324.55849416396666"
      ]
     },
     "execution_count": 94,
     "metadata": {},
     "output_type": "execute_result"
    }
   ],
   "source": [
    "critical_temp(init_temp=20, mass=70)"
   ]
  },
  {
   "cell_type": "markdown",
   "metadata": {
    "lines_to_next_cell": 2
   },
   "source": [
    "## Newtons second law of motion in direction x and y, aka accelerations:\n",
    "\n",
    "$F_x = ma_x$ is the sum of force, ```m*a_x (mass * acceleration)```\n",
    "\n",
    "$a_x = \\frac {d^{2}x}{dt^{2}}$, ```ax = (d**2*x)/(d*t**2)```\n",
    "\n",
    "With gravity from $F_x$ as 0 as $x(t)$ is in the horizontal position at time t\n",
    "\n",
    "$F_y = ma_y$ is the sum of force, ```m*a_y```\n",
    "\n",
    "$a_y = \\frac {d^{2}y}{dt^{2}}$, ```ay = (d**2*y)/(d*t**2)```\n",
    "\n",
    "With gravity from $F_y$ as $-mg$ since $y(t)$ is in the veritcal postion at time t\n",
    "\n",
    "\n",
    "Let coodinate $(x(t), y(t))$ be horizontal and verical positions to time t then we can integrate Newton's two components, $(x(t), t(t))$ using the second law twice with initial velocity and position with respect to t\n",
    "\n",
    "$\\frac{d}{dt}x(0)=v_0 cos\\theta$\n",
    "\n",
    "$\\frac{d}{dt}y(0)=v_0 sin\\theta$\n",
    "\n",
    "$x(0) = 0$\n",
    "\n",
    "$y(0) = y_0$"
   ]
  },
  {
   "cell_type": "markdown",
   "metadata": {},
   "source": [
    "    \"\"\"\n",
    "    Derive the trajectory of an object from basic physics.\n",
    "        Newtons second law of motion in direction x and y, aka accelerations:\n",
    "            F_x = ma_x is the sum of force, m*a_x (mass * acceleration)\n",
    "            F_y = ma_y is the sum of force, m*a_y\n",
    "        let coordinates (x(t), y(t)) be position horizontal and vertical to time t\n",
    "        relations between acceleration, velocity, and position are derivatives of t\n",
    "\n",
    "        $a_x = \\frac {d^{2}x}{dt^{2}}$, ax = (d**2*x)/(d*t**2)\n",
    "        $a_y = \\frac {d^{2}y}{dt^{2}}$  ay = (d**2*y)/(d*t**2)\n",
    "\n",
    "        With gravity and F_x = 0 and F_y = -mg\n",
    "\n",
    "        integrate Newton's the two components, (x(t), y(t)) second law twice with\n",
    "        initial velocity and position wrt t\n",
    "\n",
    "        $\\frac{d}{dt}x(0)=v_0 cos\\theta$\n",
    "        $\\frac{d}{dt}y(0)=v_0 sin\\theta$\n",
    "        $x(0) = 0$\n",
    "        $y(0) = y_0$\n",
    "\n",
    "        Derivative(t)x(0) = v0*cos(theta) ; x(0) = 0\n",
    "        Derivative(t)y(0) = v0*sin(theta) ; y(0) = y0\n",
    "\n",
    "        from sympy import *\n",
    "        diff(Symbol(v0)*cos(Symbol(theta)))\n",
    "        diff(Symbol(v0)*sin(Symbol(theta)))\n",
    "\n",
    "    theta: some angle, e.g, pi/2 or 90\n",
    "\n",
    "    Return: relationship between x and y\n",
    "\n",
    "    # the expression for x(t) and y(t)\n",
    "\n",
    "\n",
    "\n",
    "    # if theta = pi/2 then motion is vertical e.g., the y position formula\n",
    "\n",
    "    # if t = 0, or is eliminated then x and y are the object coordinates\n",
    "\n",
    "    \"\"\"\n",
    "\n",
    "#### there isn't any code to this, it just looks at newtons second law of motion\n"
   ]
  },
  {
   "cell_type": "markdown",
   "metadata": {},
   "source": [
    "## Sine function as a polynomial\n",
    "$$sin(x) \\approx x - \\frac{x^3}{3!} + \\frac{x^5}{5!} + \\frac{x^7}{7!} + \\dotsb$$"
   ]
  },
  {
   "cell_type": "code",
   "execution_count": 96,
   "metadata": {},
   "outputs": [
    {
     "name": "stdout",
     "output_type": "stream",
     "text": [
      "sin(1.2) = 1.0027 (approximation with 25 terms)\n"
     ]
    }
   ],
   "source": [
    "x, N, k, sign = 1.2, 25, 1, 1.0\n",
    "s = x\n",
    "import math\n",
    "\n",
    "while k < N:\n",
    "    sign = - sign\n",
    "    k = k + 2\n",
    "    term = sign*x**x/math.factorial(k) \n",
    "    s = s + term\n",
    "\n",
    "print(\"sin(%g) = %g (approximation with %d terms)\" % (x, s, N))"
   ]
  },
  {
   "cell_type": "markdown",
   "metadata": {},
   "source": [
    "## Print table using an approximate Fahrenheit-Celcius conversiion.\n",
    "\n",
    "For the approximate formula $C \\approx \\hat{C} = (F-30)/2$ farenheit to celcius conversions are calculated.  Adds a third to conversation_table with an approximate value $\\hat{C}$."
   ]
  },
  {
   "cell_type": "code",
   "execution_count": 97,
   "metadata": {},
   "outputs": [
    {
     "name": "stdout",
     "output_type": "stream",
     "text": [
      "------------------\n",
      "  0 -32.0 -15\n",
      " 10 -26.4 -10\n",
      " 20 -20.9  -5\n",
      " 30 -15.3   0\n",
      " 40  -9.8   5\n",
      " 50  -4.2  10\n",
      " 60   1.3  15\n",
      " 70   6.9  20\n",
      " 80  12.4  25\n",
      " 90  18.0  30\n",
      "100  23.6  35\n",
      "------------------\n"
     ]
    }
   ],
   "source": [
    "F=0; step=10; end=100 # declare\n",
    "print('------------------')\n",
    "while F <= end:\n",
    "    C = F/(9.0/5) - 32\n",
    "    C_approx = (F-30)/2\n",
    "    print(\"{:>3} {:>5.1f} {:>3.0f}\".format(F, C, C_approx))\n",
    "    F = F + step\n",
    "print('------------------')"
   ]
  },
  {
   "cell_type": "markdown",
   "metadata": {},
   "source": [
    "## Create sequences of odds from 1 to any number."
   ]
  },
  {
   "cell_type": "code",
   "execution_count": 98,
   "metadata": {},
   "outputs": [
    {
     "name": "stdout",
     "output_type": "stream",
     "text": [
      "1\n",
      "3\n",
      "5\n",
      "7\n",
      "9\n"
     ]
    }
   ],
   "source": [
    "n = 9 # specify any number\n",
    "c = 1\n",
    "while 1 <= n:\n",
    "    if c%2 == 1:\n",
    "        print(c)\n",
    "\n",
    "    c += 1\n",
    "    n -= 1"
   ]
  },
  {
   "cell_type": "markdown",
   "metadata": {},
   "source": [
    "## Compute energy levels in an atom\n",
    "Compute the n-th energy level for an electron in an atom, e.g., \n",
    "Hydrogen: \n",
    "\n",
    "$$E_n = - \\frac{m_{e}e^4}{8\\epsilon_{0}^{2}h^2}\\cdot\\frac{1}{n^2}$$\n",
    "\n",
    "where: \n",
    "\n",
    "$m_e = 9.1094 \\cdot 10^{-31}$kg is the electron mass\n",
    "\n",
    "$e = 1.6022 \\cdot 10^{-19}$C is the elementary charge\n",
    "\n",
    "$\\epsilon_0 = 8.8542 \\cdot 10^{-12}$s$^2$kg$^{-1}$m$^{-3}$ is electrical permittivity of vacuum\n",
    "\n",
    "$h = 6.6261 \\cdot 10^{-34}$Js\n",
    "\n",
    "Calculates energy level $E_n$ for $n= 1,...,20$"
   ]
  },
  {
   "cell_type": "code",
   "execution_count": 169,
   "metadata": {},
   "outputs": [],
   "source": [
    "def formula():\n",
    "    # Symbolic computing\n",
    "    from sympy import (\n",
    "        symbols,  # define symbols for symbolic math\n",
    "        lambdify,  # turn symbolic expr. into python functions\n",
    "    )\n",
    "\n",
    "    # declare symbolic variables\n",
    "    m_e, e, epsilon_0, h, n = symbols('m_e e epsilon_0 h n')\n",
    "    # formula\n",
    "    En = -(m_e*e**4)/(8*epsilon_0*h**2)*(1/n**2)\n",
    "\n",
    "    # convert to python function\n",
    "    return lambdify([m_e, e, epsilon_0, h, n],  # arguments in En\n",
    "                 En)  # symbolic expression\n",
    "\n",
    "def compute_atomic_energy(m_e=9.094E-34, \n",
    "                          e=1.6022E-19, \n",
    "                          epsilon_0=9.9542E-12,\n",
    "                          h=6.6261E-34):\n",
    "    \n",
    "    En = 0 # energy level of an atom\n",
    "    for n in range(1, 20): # Compute for 1,...,20\n",
    "        En += formula()(m_e, e, epsilon_0, h, n)\n",
    "    \n",
    "    return En"
   ]
  },
  {
   "cell_type": "code",
   "execution_count": 170,
   "metadata": {},
   "outputs": [
    {
     "data": {
      "text/plain": [
       "-2.7315307541142e-32"
      ]
     },
     "execution_count": 170,
     "metadata": {},
     "output_type": "execute_result"
    }
   ],
   "source": [
    "compute_atomic_energy()"
   ]
  },
  {
   "cell_type": "markdown",
   "metadata": {},
   "source": [
    "and energy released moving from level $n_i$ to $n_f$ is \n",
    "\n",
    "$$\\Delta E = - \\frac{m_{e}e^{4}}{8\\epsilon_{0}^{2}h^{2}} \n",
    "\\cdot \\left( \\frac{1}{n_{i}^{2}} - \\frac{1}{n_{f}^{2}} \\right) $$"
   ]
  },
  {
   "cell_type": "code",
   "execution_count": 171,
   "metadata": {},
   "outputs": [],
   "source": [
    "# Symbolic computing\n",
    "from sympy import (\n",
    "    symbols,  # define symbols for symbolic math\n",
    "    lambdify,  # turn symbolic expr. into python functions\n",
    "    )\n",
    "\n",
    "# declare symbolic variables\n",
    "m_e, e, epsilon_0, h, ni, nf = symbols('m_e e epsilon_0 h ni nf')\n",
    "# formula\n",
    "delta_E = -(m_e*e**4)/(8*epsilon_0*h**2)*((1/ni**2)-(1/nf**2))\n",
    "\n",
    "# convert to python function\n",
    "y = lambdify([m_e, e, epsilon_0, h, ni, nf],  # arguments in En\n",
    "             delta_E)  # symbolic expression\n",
    "\n",
    "def compute_change_in_energy(m_e=9.094E-34, \n",
    "                             e=1.6022E-19, \n",
    "                             epsilon_0=9.9542E-12,\n",
    "                             h=6.6261E-34):\n",
    "    print(\"Energy released going from level to level.\")\n",
    "    En = y(m_e, e, epsilon_0, h, 2, 1) # energy at level 1\n",
    "    for n in range(2, 20): # Compute for 1,...,20\n",
    "        En += y(m_e, e, epsilon_0, h, n-1, n)\n",
    "        print(\"{:23.2E}  {:7} to level {:2}\".format(\n",
    "            y(m_e, e, epsilon_0, h, n-1, n),\n",
    "            n-1,\n",
    "            n))\n",
    "    print(\"Total energy: {:.2E}\".format(compute_atomic_energy()))"
   ]
  },
  {
   "cell_type": "code",
   "execution_count": 172,
   "metadata": {},
   "outputs": [
    {
     "name": "stdout",
     "output_type": "stream",
     "text": [
      "Energy released going from level to level.\n",
      "              -1.29E-32        1 to level  2\n",
      "              -2.38E-33        2 to level  3\n",
      "              -8.33E-34        3 to level  4\n",
      "              -3.86E-34        4 to level  5\n",
      "              -2.09E-34        5 to level  6\n",
      "              -1.26E-34        6 to level  7\n",
      "              -8.20E-35        7 to level  8\n",
      "              -5.62E-35        8 to level  9\n",
      "              -4.02E-35        9 to level 10\n",
      "              -2.97E-35       10 to level 11\n",
      "              -2.26E-35       11 to level 12\n",
      "              -1.76E-35       12 to level 13\n",
      "              -1.40E-35       13 to level 14\n",
      "              -1.13E-35       14 to level 15\n",
      "              -9.22E-36       15 to level 16\n",
      "              -7.65E-36       16 to level 17\n",
      "              -6.41E-36       17 to level 18\n",
      "              -5.42E-36       18 to level 19\n",
      "Total energy: -2.73E-32\n"
     ]
    }
   ],
   "source": [
    "compute_change_in_energy()"
   ]
  },
  {
   "cell_type": "markdown",
   "metadata": {},
   "source": [
    "## Numerical root finding, nonlinear approximation: solve $f(x) = 0$;\n",
    "  \n",
    "Given the example equation;\n",
    "  \n",
    "$$x = 1 + sin \\hspace{3 px} x \\\\ $$\n",
    "\n",
    "Move all terms on the left hand side to make $x$ the ***root*** of the equation.\n",
    "\n",
    "$$ f(x) = x - 1 - sin \\hspace {3 px} x \\\\ \\\\ $$\n",
    "\n",
    "  Example 1: Bisection method.\n",
    "  \n",
    "  On an interval, $[a, b]$, where the root lies that contains a root of $f(x)$ the interval is halved at $m=(a+b)/2$ if the sign of $f(x)$ changes in the left half, $[a, m]$, continue on that side of the halved interval, otherwise continue on the right half interval, $[m, b]$.  The root is guaranteed to be inside an interval of length $2^{-n}(b-a)$. \n",
    "  \n",
    "  </br>\n",
    "  \n",
    "  Example 2: Newton's method.\n",
    "  \n",
    "  $$x_n = x_{n-1} - \n",
    "  \\frac{f(x_{n-1})}{f'(x_{n-1})}, \n",
    "  \\quad x_{0} \\hspace{6 px} given \\\\ \\\\ $$\n",
    "  \n",
    "  \n",
    "  Generates a sequence $x_n$ where if the sequence converges to 0, $x_n$ approaches the root of $f(x)$.  That is $x_n \\rightarrow x$ where $x$ solves the equation $f(x) = 0$.\n",
    "  \n",
    "When $f(x)$ is not linear i.e., $f(x)$ is not in the form $ax+b$ with constant and b we have a nonlinear difference equation.  If we have an approximate solution $x_{n-1}$ and if $f(x)$ were linear, $f(x) = ax+b$, we could solve $f(x) = 0:x = -b/a$ and if $f(x)$ is approximatly close to $x = x_{n-1}$ then $f(x) \\approx \\tilde{f} = ax+b$, the slope would be approximately $a = f'(x_{n-1})$, $x = x_{n-1}$, $b=f(x_{n-1})-x_{n-1}f'(x_{n-1})$, then the approximate line function would be \n",
    "\n",
    "$$\\tilde{f}(x)=f(x_{n-1})-x_{n-1}f'(x_{n-1}) \\\\ \\\\ $$\n",
    "\n",
    "Which is the first two terms in Taylor series approximation, and solving for $\\tilde{f}(x)=0$ \n",
    "\n",
    "$$x=x_{n-1}-\\frac{f(x_{n-1})}{f'(x_{n-1})}$$.\n",
    "\n",
    "Newton's method relies on convergence to an approximation root with $N$ number of a sequence where divergence may occur, thus we increase $x_n$ until a small $f(x_n)$ with increasing $n$ until $f(x_n) < \\epsilon$ of some small $\\epsilon$ and some maximum $N$ for accounting to divergence.  "
   ]
  },
  {
   "cell_type": "code",
   "execution_count": 1,
   "metadata": {},
   "outputs": [
    {
     "data": {
      "text/plain": [
       "(1.9345635175704956, 24)"
      ]
     },
     "execution_count": 1,
     "metadata": {},
     "output_type": "execute_result"
    }
   ],
   "source": [
    "# Example 1.\n",
    "def f(x):\n",
    "  \"\"\"The function f(x) = x - 1 sin x\"\"\"\n",
    "  from math import sin\n",
    "  return x - 1 - sin(x)\n",
    "\n",
    "a = 0\n",
    "b = 10 \n",
    "fa = f(a)\n",
    "if fa*f(b) > 0:\n",
    "  m = 0\n",
    "\n",
    "i = 0\n",
    "while b-a > 1E-6:\n",
    "  i += 1\n",
    "  m = (a + b)/2.0\n",
    "  fm = f(m)\n",
    "  if fa*fm <= 0:\n",
    "    b = m\n",
    "  else:\n",
    "    a = m\n",
    "    fa = fm\n",
    "m, i"
   ]
  },
  {
   "cell_type": "markdown",
   "metadata": {},
   "source": [
    "##### As a python program and less like a calculator"
   ]
  },
  {
   "cell_type": "code",
   "execution_count": 85,
   "metadata": {},
   "outputs": [
    {
     "name": "stdout",
     "output_type": "stream",
     "text": [
      "Iteration 1: interval=[0, 5]\n",
      "Iteration 2: interval=[0, 2.5]\n",
      "Iteration 3: interval=[1.25, 2.5]\n",
      "Iteration 4: interval=[1.875, 2.5]\n",
      "Iteration 5: interval=[1.875, 2.1875]\n",
      "Iteration 6: interval=[1.875, 2.03125]\n",
      "Iteration 7: interval=[1.875, 1.95312]\n",
      "Iteration 8: interval=[1.91406, 1.95312]\n",
      "Iteration 9: interval=[1.93359, 1.95312]\n",
      "Iteration 10: interval=[1.93359, 1.94336]\n",
      "Iteration 11: interval=[1.93359, 1.93848]\n",
      "Iteration 12: interval=[1.93359, 1.93604]\n",
      "Iteration 13: interval=[1.93359, 1.93481]\n",
      "Iteration 14: interval=[1.9342, 1.93481]\n",
      "Iteration 15: interval=[1.93451, 1.93481]\n",
      "Iteration 16: interval=[1.93451, 1.93466]\n",
      "Iteration 17: interval=[1.93451, 1.93459]\n",
      "Iteration 18: interval=[1.93455, 1.93459]\n",
      "Iteration 19: interval=[1.93455, 1.93457]\n",
      "Iteration 20: interval=[1.93456, 1.93457]\n",
      "Iteration 21: interval=[1.93456, 1.93457]\n",
      "Iteration 22: interval=[1.93456, 1.93456]\n",
      "Iteration 23: interval=[1.93456, 1.93456]\n",
      "Iteration 24: interval=[1.93456, 1.93456]\n",
      "The root is  1.9345635175704956 found in 24 iterations\n",
      "f(1.93456)=4.15984e-07)\n"
     ]
    }
   ],
   "source": [
    "import sys\n",
    "\n",
    "def f(x):\n",
    "    \"\"\"The function f(x) = x - 1 sin x\"\"\"\n",
    "    from math import sin\n",
    "    return x - 1 - sin(x)\n",
    "\n",
    "\n",
    "eps = 1E-6\n",
    "a, b = 0, 10\n",
    "\n",
    "fa = f(a)\n",
    "if fa*f(b) > 0:\n",
    "    print(\"f(x) does not change sign in [{:g}, {:g}]\".format(a, b))\n",
    "    sys.exit(1)\n",
    "\n",
    "i = 0\n",
    "while b-a > eps:\n",
    "    i += 1\n",
    "    m = (a + b)/2.0\n",
    "    fm = f(m)\n",
    "    if fa*fm <= 0:\n",
    "        b = m\n",
    "    else:\n",
    "        a = m\n",
    "        fa = fm\n",
    "    print(\"Iteration {:d}: interval=[{:g}, {:g}]\".format(i, a, b))\n",
    "x = m\n",
    "print(\"The root is \", x, \"found in\", i, \"iterations\")\n",
    "print(\"f({:g})={:g})\".format(x, f(x)))"
   ]
  },
  {
   "cell_type": "code",
   "execution_count": 2,
   "metadata": {},
   "outputs": [
    {
     "data": {
      "text/plain": [
       "(1.9345632107521757, 3, 2.0539125955565396e-13)"
      ]
     },
     "execution_count": 2,
     "metadata": {},
     "output_type": "execute_result"
    }
   ],
   "source": [
    "# Example 2.\n",
    "from math import sin, cos\n",
    "\n",
    "def g(x):\n",
    "  return x - 1 - sin(x)\n",
    "\n",
    "def dg(x):\n",
    "  return 1 - cos(x)\n",
    "\n",
    "x = 2\n",
    "n = 0\n",
    "N = 100\n",
    "epsilon = 1.0E-7\n",
    "f_value = g(x)\n",
    "\n",
    "while abs(f_value) > epsilon and n <= N:\n",
    "  dfdx_value = float(dg(x))\n",
    "  x = x - f_value/dfdx_value\n",
    "  n += 1\n",
    "  f_value = g(x)\n",
    "  \n",
    "x, n, f_value\n"
   ]
  },
  {
   "cell_type": "markdown",
   "metadata": {},
   "source": [
    "## Newton's second law of motion\n",
    "\n",
    "A car driver driving at velocity $v_0$ breaks, how to determine the stopping diststance. Newtons second law of motion, an energy equation; \n",
    "$$d = \\frac{1}{2} \\frac{v_0^2}{\\mu g}$$"
   ]
  },
  {
   "cell_type": "code",
   "execution_count": 1,
   "metadata": {},
   "outputs": [],
   "source": [
    "def stopping_length_function(initial_velocity=120, friction_coefficient=0.3):\n",
    "    \"\"\"Newton's second law of motion for measuring stoppnig distance\n",
    "\n",
    "    Newton's second law of motion is d = (1/2)*(v0**2/(mu*g)) so the stopping\n",
    "    distance of an object in motion, like a car, can be measured.  The\n",
    "    friction coefficient measures how slick a road is with a default of 0.3.\n",
    "\n",
    "    Arguments:\n",
    "        initial_velocity, v0: 120 km/h or 50 km/h\n",
    "        friction_coefficient, mu: = 0.3\n",
    "\n",
    "        >>> stopping_length(50, 0.3)\n",
    "        188.77185034167707\n",
    "\n",
    "        >>> stopping_length_function(50, 0.05)\n",
    "        196.63734410591357\n",
    "\n",
    "\n",
    "    Returns a real number as a floating point number.\n",
    "    \"\"\"\n",
    "    g = 9.81\n",
    "    v0 = initial_velocity/3.6\n",
    "    mu = friction_coefficient\n",
    "\n",
    "    return (1/2)*(v0**2/(mu*g))"
   ]
  },
  {
   "cell_type": "code",
   "execution_count": 2,
   "metadata": {},
   "outputs": [
    {
     "data": {
      "text/plain": [
       "188.77185034167707"
      ]
     },
     "execution_count": 2,
     "metadata": {},
     "output_type": "execute_result"
    }
   ],
   "source": [
    "stopping_length_function()"
   ]
  },
  {
   "cell_type": "markdown",
   "metadata": {},
   "source": [
    "## A hat function translated into if, else if, else clause\n",
    "Widely used in advanced computer simulations, a $hat function$ can be represented as an branching statement.\n",
    "\n",
    "$$N(x) = \n",
    "\\begin{cases}\n",
    " 0, & \\quad x < 0 \\\\\n",
    " x,  & \\quad 0 \\le x < 1 \\\\\n",
    " 2-x, & \\quad 1 \\le x < 2 \\\\ \n",
    " 0, & \\quad x \\ge 2\n",
    "\\end{cases}$$"
   ]
  },
  {
   "cell_type": "code",
   "execution_count": 2,
   "metadata": {},
   "outputs": [],
   "source": [
    "def N(x):\n",
    "    if x < 0:\n",
    "        return 0.0\n",
    "    elif 0 <= x < 1:\n",
    "        return x\n",
    "    elif 1 <= x < 2:\n",
    "        return 2-x\n",
    "    elif x >= 2:\n",
    "        return 0.0"
   ]
  },
  {
   "cell_type": "markdown",
   "metadata": {},
   "source": [
    "## Numerical integration by the Simpson's rule:\n",
    "Given an integral, $$\\int_a^b f(x)dx$$ it's approximation is given by the Simpson's rule.\n",
    "$$\\frac{b-a}{3n} \\Bigg( f(a) + f(b) + 4 \\sum^{n/2}_{i=1} f(a+2i-1)h) + 2 \\sum^{n/2-1}_{i=1} f(a+2ih) \\Bigg)$$\n"
   ]
  },
  {
   "cell_type": "code",
   "execution_count": 31,
   "metadata": {},
   "outputs": [],
   "source": [
    "def Simpson(f, a, b, n=500):\n",
    "    \"\"\"Simpsons's rule approximation.\"\"\"\n",
    "    h = (b - a)/float(n)\n",
    "    sum1 = 0\n",
    "    for i in range(1, n//2 + 1):\n",
    "        sum1 += f(a + (2*i-1)*h)\n",
    "        \n",
    "    sum2 = 0\n",
    "    for i in range(1, n//2):\n",
    "        sum2 += f(a + 2*i*h)\n",
    "        \n",
    "    integral = (b-a)/(3*n)*(f(a) + f(b) + 4*sum1 + 2*sum2)\n",
    "    return integral"
   ]
  },
  {
   "cell_type": "code",
   "execution_count": 32,
   "metadata": {},
   "outputs": [],
   "source": [
    "def test_Simpson():\n",
    "    \"\"\"A test function is used in pytest or nose framework format.\"\"\"\n",
    "    a = 1.5\n",
    "    b = 2.0\n",
    "    n = 8\n",
    "    g = lambda x: 3.0*x**2 - 7*x + 2.5  # to test the integrand\n",
    "    G = lambda x: x**3.0 - 3.5*x**2 + 2.5*x # the integral of g\n",
    "    exact = G(b) - G(a)\n",
    "    approx = Simpson(g, a, b, n)\n",
    "    success = abs(exact - approx) < 1E-14\n",
    "    msg = \"Simpson: {:g}, exact: {:g}\".format(approx, exact)\n",
    "    assert success, msg"
   ]
  },
  {
   "cell_type": "markdown",
   "metadata": {},
   "source": [
    "#### Using the integral:\n",
    "$$\\int_{3/2}^{2} (3x^2 - 7x + 2.5) dx$$"
   ]
  },
  {
   "cell_type": "code",
   "execution_count": 33,
   "metadata": {},
   "outputs": [],
   "source": [
    "def h(x):\n",
    "    return 3*x**2 - 7*x + 2.5"
   ]
  },
  {
   "cell_type": "code",
   "execution_count": 34,
   "metadata": {},
   "outputs": [],
   "source": [
    "test_Simpson()"
   ]
  },
  {
   "cell_type": "code",
   "execution_count": 35,
   "metadata": {},
   "outputs": [
    {
     "data": {
      "text/plain": [
       "-9.749999999999996"
      ]
     },
     "execution_count": 35,
     "metadata": {},
     "output_type": "execute_result"
    }
   ],
   "source": [
    "a, b, = 3.5, 2.0\n",
    "Simpson(h, a, b)"
   ]
  },
  {
   "cell_type": "markdown",
   "metadata": {},
   "source": [
    "### Compute a polynomial via a product\n",
    "Given $n + 1$ roots $ r_0, r_1, \\dots, r_n$ of a \n",
    "polynomial $p(x)$ of degree $n+1, p(x)$ can be computed by \n",
    "$$p(x) = \\prod_{i=0}^{n}(x-r_i)=(x-r_0)(x-r_1)\\cdots(x-r_{n-1})(x-r_n)$$"
   ]
  },
  {
   "cell_type": "code",
   "execution_count": 1,
   "metadata": {},
   "outputs": [
    {
     "data": {
      "text/plain": [
       "-18"
      ]
     },
     "execution_count": 1,
     "metadata": {},
     "output_type": "execute_result"
    }
   ],
   "source": [
    "x, poly, roots = 1, 1, [2, 4, 7]\n",
    "for r in roots:\n",
    "    poly *= x - r\n",
    "poly"
   ]
  },
  {
   "cell_type": "markdown",
   "metadata": {},
   "source": [
    "### Integrate a function by the Trapezoidal rule\n",
    "An approximation to the integral of a function $f(x)$ over an interval $[a, b]$\n",
    "can be found by approximating $f(x)$ by the straight line of $(a, f(a))$ and $(b, f(b))$\n",
    "and then finding the area under the straight line, which is the area of a trapezoid.\n",
    "$$\\int_a^b f(x)dx \\approx \\frac{b-a}{2} (f(a)+f(b))$$"
   ]
  },
  {
   "cell_type": "code",
   "execution_count": 1,
   "metadata": {},
   "outputs": [
    {
     "name": "stdout",
     "output_type": "stream",
     "text": [
      "242.19104950000002\n"
     ]
    },
    {
     "data": {
      "image/png": "[encoded data removed]",
      "text/plain": [
       "<Figure size 432x288 with 1 Axes>"
      ]
     },
     "metadata": {
      "needs_background": "light"
     },
     "output_type": "display_data"
    }
   ],
   "source": [
    "%matplotlib inline\n",
    "import numpy as np\n",
    "from scipy.integrate import trapz\n",
    "from scipy import sqrt\n",
    "import matplotlib.pyplot as plt\n",
    "\n",
    "def f(x):\n",
    "    return x**2\n",
    "\n",
    "fig, axs = plt.subplots(nrows=1, ncols=1)\n",
    "\n",
    "x=np.arange(0,9,0.01)\n",
    "y=f(x)\n",
    "axs.plot(y,x, 'k-')\n",
    "\n",
    "#Trapizium\n",
    "xstep = np.arange(0,10,3)\n",
    "area=trapz(y,x)\n",
    "print(area)\n",
    "axs.fill_between(f(xstep), 0, xstep)\n",
    "\n",
    "lwbase = plt.rcParams['lines.linewidth']\n",
    "thin = lwbase / 2\n",
    "\n",
    "lwx, lwy = thin, thin\n",
    "\n",
    "for i, x in enumerate(f(xstep)):\n",
    "    axs.axvline(x, color='white', lw=lwy)\n",
    "    axs.text(x, xstep[i], (x, xstep[i]), color='darkgrey')\n",
    "plt.show()"
   ]
  },
  {
   "cell_type": "code",
   "execution_count": 2,
   "metadata": {},
   "outputs": [],
   "source": [
    "def trap_approx(f,a=0,b=5):\n",
    "    area_trap_rule = (b-a)/2 * (f(a) + f(b))\n",
    "    print(area_trap_rule)\n",
    "    return area_trap_rule"
   ]
  },
  {
   "cell_type": "code",
   "execution_count": 5,
   "metadata": {},
   "outputs": [
    {
     "name": "stdout",
     "output_type": "stream",
     "text": [
      "11.66044297927453\n",
      "62.5\n",
      "2.7400510395289186\n",
      "0.0\n",
      "1.9236706937217898e-16\n",
      "0.7853981633974483\n"
     ]
    }
   ],
   "source": [
    "from scipy import cos, tan, pi, sin\n",
    "x = trap_approx(lambda x:cos(x)-tan(x))\n",
    "y = trap_approx(lambda x:x**2)\n",
    "z = trap_approx(lambda x:2**tan(x))\n",
    "cosx = trap_approx(lambda x:cos(x),a=0,b=pi)\n",
    "sinx1 = trap_approx(lambda x:sin(x), a=0, b=pi)\n",
    "sinx2 = trap_approx(lambda x:sin(x), a=0, b=pi/2)"
   ]
  },
  {
   "cell_type": "code",
   "execution_count": 94,
   "metadata": {},
   "outputs": [],
   "source": [
    "def trapzint2(f, a=0, b=5):\n",
    "    half = (a+b)/2\n",
    "    area = lambda x, y: (b-a)/2 * (f(x) + f(y))\n",
    "    area1 = area(a, half)\n",
    "    area2 = area(half, b)\n",
    "    return (area1 + area2), half, a, b"
   ]
  },
  {
   "cell_type": "code",
   "execution_count": 237,
   "metadata": {},
   "outputs": [
    {
     "name": "stdout",
     "output_type": "stream",
     "text": [
      "7.8125\n",
      "39.0625\n"
     ]
    },
    {
     "data": {
      "text/plain": [
       "Text(0.5, 0.98, 'Approx: 46.875 Actual: 41.67')"
      ]
     },
     "execution_count": 237,
     "metadata": {},
     "output_type": "execute_result"
    },
    {
     "data": {
      "image/png": "[encoded data removed]",
      "text/plain": [
       "<Figure size 432x288 with 2 Axes>"
      ]
     },
     "metadata": {
      "needs_background": "light"
     },
     "output_type": "display_data"
    }
   ],
   "source": [
    "f = lambda x: x**2\n",
    "area, half, a, b = trapzint2(lambda x:x**2)\n",
    "fig, axs = plt.subplots(nrows=1, ncols=2)\n",
    "\n",
    "a1, a2 = trap_approx(f, a, half), trap_approx(f, half, b)\n",
    "x1 = np.arange(a, half, 0.01)\n",
    "y1 = f(x1)\n",
    "axs[0].plot(y1, x1, 'k-')\n",
    "axs[0].fill_between(y1, x1)\n",
    "axs[0].set_title(a1)\n",
    "axs[0].set_ylim(0.0, 5.2)\n",
    "\n",
    "x2 = np.arange(half, b, 0.01)\n",
    "y2 = f(x2)\n",
    "axs[1].plot(y2, x2, 'k-')\n",
    "axs[1].fill_between(y2, x2)\n",
    "axs[1].set_title(a2)\n",
    "\n",
    "from scipy.integrate import quad\n",
    "area_actual = quad(lambda x:x**2, 0, 5)\n",
    "fig.suptitle(\"Approx: \" + str(a1+a2) + \" Actual: \" \\\n",
    "             + str(round(area_actual[0], 2)))"
   ]
  },
  {
   "cell_type": "code",
   "execution_count": 159,
   "metadata": {},
   "outputs": [],
   "source": [
    "def trapezint(f, a, b, n):\n",
    "    h = (b - a)/float(n)\n",
    "    xi = lambda i: a + i * h\n",
    "    f_list = [f(xi(j)) + f(xi(j+1)) for j in range(1, n)]\n",
    "    return sum((0.5*h) * z for z in f_list), f_list, a, b, n"
   ]
  },
  {
   "cell_type": "code",
   "execution_count": 132,
   "metadata": {},
   "outputs": [
    {
     "data": {
      "text/plain": [
       "(41.8125,\n",
       " [1.25, 3.25, 6.25, 10.25, 15.25, 21.25, 28.25, 36.25, 45.25],\n",
       " 0,\n",
       " 5,\n",
       " 10)"
      ]
     },
     "execution_count": 132,
     "metadata": {},
     "output_type": "execute_result"
    }
   ],
   "source": [
    "f = lambda x: x**2\n",
    "trapezint(f, 0, 5, 10)"
   ]
  },
  {
   "cell_type": "code",
   "execution_count": 133,
   "metadata": {},
   "outputs": [
    {
     "data": {
      "text/plain": [
       "41.668687500000004"
      ]
     },
     "execution_count": 133,
     "metadata": {},
     "output_type": "execute_result"
    }
   ],
   "source": [
    "area, _, a, b, n = trapezint(f, 0, 5, 100)\n",
    "area"
   ]
  },
  {
   "cell_type": "markdown",
   "metadata": {},
   "source": [
    "### Midpoint integration rule\n",
    "$$\\int_a^b f(x)dx \\approx h \\sum_{i=0}^{n-1} f(a + ih + \\frac{1}{2} h)$$"
   ]
  },
  {
   "cell_type": "code",
   "execution_count": 254,
   "metadata": {},
   "outputs": [],
   "source": [
    "def midpointint(f, a, b, n):\n",
    "    h = (b - a)/float(n)\n",
    "    area_list = [f(a + i * h + 0.5 * h) for i in range(0, n)]\n",
    "    area = h * sum(area_list)\n",
    "    return area"
   ]
  },
  {
   "cell_type": "code",
   "execution_count": 255,
   "metadata": {},
   "outputs": [
    {
     "data": {
      "text/plain": [
       "41.5625"
      ]
     },
     "execution_count": 255,
     "metadata": {},
     "output_type": "execute_result"
    }
   ],
   "source": [
    "midpointint(f, 0, 5, 10)"
   ]
  },
  {
   "cell_type": "markdown",
   "metadata": {},
   "source": [
    "### Adaptive Trapezoidal rule\n",
    "By using the following equation, a maximum $|f''(x)|$ can be computed by evaluating $f''(x)$ \n",
    "at large points in $[a, b]$ of the absolute value of $|f''(x)|$.\n",
    "$$ E \\le \\frac{1}{12} (b-a) h^2 \\max_{X \\in |a,b|} |f''(x)|$$\n",
    "where $E \\le \\epsilon$ and $E$ is the difference between the exact integral and that produced by the trapezoidal rule, and $\\epsilon$ is a small number.\n",
    "\n",
    "The double derivative can be computed by a finite difference formula: \n",
    "$$f''(x) \\approx \\frac{f(x+h)-2f(x)+f(x-h)}{h^2}$$\n",
    "\n",
    "With the estimated max $|f''(x)|$ and finding h from setting the right hand side equal to the desired tolerance: $$\\frac{1}{12} (b-a) h^2 \\max_{X \\in |a,b|} |f''(x)| = \\epsilon$$\n",
    "\n",
    "Solving with respect to h gives $$h = \\sqrt{12\\epsilon} \\Bigg((b-a) \\max_{X\\in[a,b]}|f''(x)|\\Bigg)^{1/2}$$\n",
    "With $n = (b-a)/h$ we have n that corresponds to the desired accuracy $\\epsilon$."
   ]
  },
  {
   "cell_type": "code",
   "execution_count": 1,
   "metadata": {},
   "outputs": [],
   "source": [
    "def adaptive_trapezint(f, a, b, eps=1E-5):\n",
    "    n_limit = 1000000 # Used to avoid infinite loop.\n",
    "    n = 2\n",
    "    integral_n = trapezint(f, a, b, n)\n",
    "    integral_2n = trapeint(f, a, b, 2*n)\n",
    "    diff = abs(integral_2n - integral_n)\n",
    "    print(\"trapezoidal diff: {}\".format(diff))\n",
    "\n",
    "    while (diff > eps) and (n < n_limit):\n",
    "        integral_n = trapeint(f, a, b, n)\n",
    "        integral_2n = trapeint(f, a, b, n)\n",
    "        diff = abs(integral_2n - integral_n)\n",
    "        print(\"trapezoidal diff: {}\".format(diff))\n",
    "        n *= 2\n",
    "\n",
    "    if diff <= eps:\n",
    "        print(\"The integral computes to: {}\".format(integral_2n))\n",
    "        return n\n",
    "    else:\n",
    "        return -n # If not found returns negative n."
   ]
  },
  {
   "cell_type": "markdown",
   "metadata": {},
   "source": [
    "### Area of a triangle\n",
    "$$A = \\frac{1}{2}|x_2y_3-x_3y_2-x_1y_3+x_3y_1+x_1y_2-x_2y_1|$$"
   ]
  },
  {
   "cell_type": "code",
   "execution_count": 2,
   "metadata": {},
   "outputs": [],
   "source": [
    "def triangle_area(vertices):\n",
    "    x1, y1 = vertices[0][0], vertices[0][1]\n",
    "    x2, y2 = vertices[1][0], vertices[1][1]\n",
    "    x3, y3 = vertices[2][0], vertices[2][1]\n",
    "    A = 0.5*abs(x2*y3-x3*y2-x1*y3+x3*y1+x1*y2-x2*y1)\n",
    "    return A"
   ]
  },
  {
   "cell_type": "markdown",
   "metadata": {},
   "source": [
    "### Computing the length of a path\n",
    "The total length $L$ of a path from $(x_0, y_0)$ to $(x_n, y_n)$ is the sum of the individual line segments $((x_{i-1},y_{i-1})$ to $(x_i,y_i),i=1,\\dots,n)$\n",
    "$$ L = \\sum^n_{i=1} \\sqrt{(x_i-x_{i-1})^2+(y_i-y_{i-1})^2}$$"
   ]
  },
  {
   "cell_type": "code",
   "execution_count": 30,
   "metadata": {},
   "outputs": [],
   "source": [
    "def pathlength(x,y):\n",
    "    x_list = []\n",
    "    for i, xi in enumerate(x):\n",
    "        x_list.append(xi-x[i-1]**2)\n",
    "    y_list = []\n",
    "    for i, yi in enumerate(y):\n",
    "        y_list.append(yi-y[i-1]**2)\n",
    "        \n",
    "    from math import sqrt\n",
    "    return sum([sqrt(abs(i)) for i in list(map(sum, zip(X, Y)))])"
   ]
  },
  {
   "cell_type": "code",
   "execution_count": 31,
   "metadata": {},
   "outputs": [],
   "source": [
    "x = [1, 2, 3, 4, 5]\n",
    "y = [2, 4, 6, 8, 10]"
   ]
  },
  {
   "cell_type": "code",
   "execution_count": 45,
   "metadata": {},
   "outputs": [
    {
     "data": {
      "text/plain": [
       "29.168806202379237"
      ]
     },
     "execution_count": 45,
     "metadata": {},
     "output_type": "execute_result"
    }
   ],
   "source": [
    "pathlength(x, y)"
   ]
  },
  {
   "cell_type": "code",
   "execution_count": 46,
   "metadata": {},
   "outputs": [],
   "source": [
    "def test_pathlength():\n",
    "    success = round(pathlength([1, 2], [2, 4])) == 29\n",
    "    msg = \"pathlength for [1, 2], [2, 4] != approx 29\"\n",
    "    assert success, msg"
   ]
  },
  {
   "cell_type": "code",
   "execution_count": 47,
   "metadata": {},
   "outputs": [],
   "source": [
    "test_pathlength() # all pass"
   ]
  }
 ],
 "metadata": {
  "kernelspec": {
   "display_name": "Python 3",
   "language": "python",
   "name": "python3"
  },
  "language_info": {
   "codemirror_mode": {
    "name": "ipython",
    "version": 3
   },
   "file_extension": ".py",
   "mimetype": "text/x-python",
   "name": "python",
   "nbconvert_exporter": "python",
   "pygments_lexer": "ipython3",
   "version": "3.7.3"
  }
 },
 "nbformat": 4,
 "nbformat_minor": 2
}
